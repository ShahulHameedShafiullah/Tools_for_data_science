{
  "metadata": {
    "kernelspec": {
      "name": "python",
      "display_name": "Python (Pyodide)",
      "language": "python"
    },
    "language_info": {
      "codemirror_mode": {
        "name": "python",
        "version": 3
      },
      "file_extension": ".py",
      "mimetype": "text/x-python",
      "name": "python",
      "nbconvert_exporter": "python",
      "pygments_lexer": "ipython3",
      "version": "3.8"
    }
  },
  "nbformat_minor": 4,
  "nbformat": 4,
  "cells": [
    {
      "cell_type": "markdown",
      "source": "<center>\n    <img src=\"https://cf-courses-data.s3.us.cloud-object-storage.appdomain.cloud/IBMDeveloperSkillsNetwork-DS0105EN-SkillsNetwork/labs/Module2/images/SN_web_lightmode.png\" width=\"300\" alt=\"cognitiveclass.ai logo\">\n</center>\n",
      "metadata": {}
    },
    {
      "cell_type": "markdown",
      "source": "# Data Science Tools and Ecosystem",
      "metadata": {}
    },
    {
      "cell_type": "markdown",
      "source": "### In this notebook, Data Science Tools and Ecosystem are summarized.",
      "metadata": {}
    },
    {
      "cell_type": "markdown",
      "source": "#### Objectives:\n* Some of the popular languages that Data Scientists use are Python, R, Scala, Julia\n* Some of the commonly used libraries used by Data Scientists include Pandas, Numpy, Matplotlib, Plotly, Ggplot\n* Some of the commonly used tools used by Data Scientists include Jupyter Notebook, R Studio, Git, Anaconda\n* There are numerous languages, tools and packages available as open source.",
      "metadata": {}
    },
    {
      "cell_type": "markdown",
      "source": "##### Some of the popular languages that Data Scientists use are:\n1. Python\n2. R\n3. Scala\n4. Julia",
      "metadata": {}
    },
    {
      "cell_type": "markdown",
      "source": "##### Some of the commonly used libraries used by Data Scientists include:\n- Pandas\n- NumPy\n- Matplotlib\n- ggplot\n- plotly",
      "metadata": {}
    },
    {
      "cell_type": "markdown",
      "source": "| S.No | Data Science Tools |\n| ---- | ------------------ |\n| 1 | Jupyter |\n| 2 | R Studio|\n| 3 | GitHub |\n| 4 |Anaconda |",
      "metadata": {}
    },
    {
      "cell_type": "markdown",
      "source": "##### Below are a few examples of evaluating arithmetic expressions in Python\n###### result = a + b \n###### result = a * b \n###### result = (a + b) * c\n###### result = (a % b) * 10",
      "metadata": {}
    },
    {
      "cell_type": "markdown",
      "source": "##### This a simple arithmetic expression to mutiply then add integers",
      "metadata": {}
    },
    {
      "cell_type": "code",
      "source": "result = (3 * 4) + 5\nprint(\"Result = \", result)",
      "metadata": {
        "trusted": true
      },
      "outputs": [
        {
          "name": "stdout",
          "text": "Result =  17\n",
          "output_type": "stream"
        }
      ],
      "execution_count": 7
    },
    {
      "cell_type": "markdown",
      "source": "##### This will convert 200 minutes to hours by diving by 60",
      "metadata": {}
    },
    {
      "cell_type": "code",
      "source": "minutes = 200\nmin_per_hour = 60\nnum_hours = round(minutes / min_per_hour, 1)\nprint (\"Number of hours in \", minutes, \" minutes : \", num_hours)",
      "metadata": {
        "trusted": true
      },
      "outputs": [
        {
          "name": "stdout",
          "text": "Number of hours in  200  minutes :  3.3\n",
          "output_type": "stream"
        }
      ],
      "execution_count": 9
    },
    {
      "cell_type": "markdown",
      "source": "### Author\n##### Shahul Hameed Shafiullah",
      "metadata": {}
    }
  ]
}